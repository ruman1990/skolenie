{
 "cells": [
  {
   "cell_type": "code",
   "execution_count": 24,
   "id": "76ffda63",
   "metadata": {},
   "outputs": [
    {
     "name": "stdout",
     "output_type": "stream",
     "text": [
      "<class 'pandas.core.frame.DataFrame'>\n",
      "RangeIndex: 1000 entries, 0 to 999\n",
      "Data columns (total 6 columns):\n",
      " #   Column      Non-Null Count  Dtype  \n",
      "---  ------      --------------  -----  \n",
      " 0   id          1000 non-null   int64  \n",
      " 1   first_name  1000 non-null   object \n",
      " 2   last_name   1000 non-null   object \n",
      " 3   email       1000 non-null   object \n",
      " 4   city        1000 non-null   object \n",
      " 5   salary      997 non-null    float64\n",
      "dtypes: float64(1), int64(1), object(4)\n",
      "memory usage: 47.0+ KB\n",
      "None\n"
     ]
    }
   ],
   "source": [
    "import pandas as pd\n",
    "\n",
    "df = pd.read_csv(\"users3.csv\")\n",
    "print(df.info())  "
   ]
  },
  {
   "cell_type": "code",
   "execution_count": 25,
   "id": "6f00dff6",
   "metadata": {},
   "outputs": [
    {
     "name": "stdout",
     "output_type": "stream",
     "text": [
      "   id first_name last_name                           email             city  \\\n",
      "0   1    Bohdana  Sýkorová              jklima@example.net  Dolné Otrokovce   \n",
      "1   2    Radomír      Uram         tarzicius00@example.net            Kysak   \n",
      "2   3      Jakub  Harvánek  bohumilafasiangova@example.com        Hrubý Šúr   \n",
      "3   4     Izidor  Droppová    hankovapetronela@example.net           Duplín   \n",
      "4   5      Oskár   Pavelko          talpasemil@example.org         Malá Ida   \n",
      "\n",
      "     salary  \n",
      "0    2200.0  \n",
      "1  140000.0  \n",
      "2   -2500.0  \n",
      "3    2100.0  \n",
      "4    4000.0  \n",
      "<class 'pandas.core.frame.DataFrame'>\n",
      "RangeIndex: 1000 entries, 0 to 999\n",
      "Data columns (total 6 columns):\n",
      " #   Column      Non-Null Count  Dtype  \n",
      "---  ------      --------------  -----  \n",
      " 0   id          1000 non-null   int64  \n",
      " 1   first_name  1000 non-null   object \n",
      " 2   last_name   1000 non-null   object \n",
      " 3   email       1000 non-null   object \n",
      " 4   city        1000 non-null   object \n",
      " 5   salary      1000 non-null   float64\n",
      "dtypes: float64(1), int64(1), object(4)\n",
      "memory usage: 47.0+ KB\n",
      "None\n"
     ]
    }
   ],
   "source": [
    "print(df.head())\n",
    "\n",
    "df_filled = df.fillna(df[\"salary\"].mean())\n",
    "print(df_filled.info())\n",
    "\n",
    "df_filled.to_csv(\"users3_filled.csv\", index=False)"
   ]
  },
  {
   "cell_type": "code",
   "execution_count": 26,
   "id": "2aceda3d",
   "metadata": {},
   "outputs": [
    {
     "name": "stdout",
     "output_type": "stream",
     "text": [
      "id                                     1000\n",
      "first_name                          Daniela\n",
      "last_name                       Markovičová\n",
      "email         mlynariksvatopluk@example.com\n",
      "city                                Lipovce\n",
      "salary                          3174.022066\n",
      "Name: 999, dtype: object\n",
      "       id first_name    last_name                          email  \\\n",
      "0       1    Bohdana     Sýkorová             jklima@example.net   \n",
      "1       2    Radomír         Uram        tarzicius00@example.net   \n",
      "3       4     Izidor     Droppová   hankovapetronela@example.net   \n",
      "4       5      Oskár      Pavelko         talpasemil@example.org   \n",
      "5       6    Jarolím     Simonová    krupovaeleonora@example.org   \n",
      "..    ...        ...          ...                            ...   \n",
      "995   996      Oxana      Richard            qdanova@example.net   \n",
      "996   997   Patrícia   Masáriková       samuelsamuel@example.net   \n",
      "997   998  Ferdinand     Hanusová         uklimkovic@example.net   \n",
      "998   999        Ema     Jureková    drotarovarebeka@example.com   \n",
      "999  1000    Daniela  Markovičová  mlynariksvatopluk@example.com   \n",
      "\n",
      "                city         salary  \n",
      "0    Dolné Otrokovce    2200.000000  \n",
      "1              Kysak  140000.000000  \n",
      "3             Duplín    2100.000000  \n",
      "4           Malá Ida    4000.000000  \n",
      "5            Dúbrava    3900.000000  \n",
      "..               ...            ...  \n",
      "995          Udavské    4000.000000  \n",
      "996           Šípkov    2500.000000  \n",
      "997            Bánov    3300.000000  \n",
      "998  Banský Studenec    2400.000000  \n",
      "999          Lipovce    3174.022066  \n",
      "\n",
      "[735 rows x 6 columns]\n",
      "0      False\n",
      "1      False\n",
      "2      False\n",
      "3      False\n",
      "4      False\n",
      "       ...  \n",
      "995    False\n",
      "996    False\n",
      "997    False\n",
      "998    False\n",
      "999    False\n",
      "Length: 1000, dtype: bool\n"
     ]
    }
   ],
   "source": [
    "print(df_filled.iloc[999])  # Access the last row to verify the salary has been filled\n",
    "print(df_filled[df_filled[\"salary\"] > 2000])  # Check for any remaining NaN values in the salary column\n",
    "\n",
    "print(df_filled.duplicated())"
   ]
  },
  {
   "cell_type": "code",
   "execution_count": 27,
   "id": "5e2b7c3c",
   "metadata": {},
   "outputs": [
    {
     "name": "stdout",
     "output_type": "stream",
     "text": [
      "-0.044766450462863615\n"
     ]
    }
   ],
   "source": [
    "print(df_filled['salary'].corr(df_filled['id']))  # Calculate the correlation between 'salary' and 'id'"
   ]
  },
  {
   "cell_type": "code",
   "execution_count": 29,
   "id": "b25b0afd",
   "metadata": {},
   "outputs": [
    {
     "name": "stdout",
     "output_type": "stream",
     "text": [
      "            vek     vyska      vaha\n",
      "vek    1.000000  0.348743  0.365142\n",
      "vyska  0.348743  1.000000  0.996845\n",
      "vaha   0.365142  0.996845  1.000000\n"
     ]
    }
   ],
   "source": [
    "import pandas as pd\n",
    "\n",
    "data = {\n",
    "    \"vek\": [20, 22, 23, 65, 25],\n",
    "    \"vyska\": [160, 165, 167, 170, 175],\n",
    "    \"vaha\": [55, 60, 61, 65, 70]\n",
    "}\n",
    "df = pd.DataFrame(data)\n",
    "print(df.corr())"
   ]
  },
  {
   "cell_type": "code",
   "execution_count": 31,
   "id": "276da662",
   "metadata": {},
   "outputs": [
    {
     "data": {
      "image/png": "[encoded data removed]",
      "text/plain": [
       "<Figure size 640x480 with 1 Axes>"
      ]
     },
     "metadata": {},
     "output_type": "display_data"
    }
   ],
   "source": [
    "import pandas as pd\n",
    "import matplotlib.pyplot as plt\n",
    "\n",
    "df = pd.DataFrame({\n",
    "    \"A\": [1, 7, 2, 6, 8],\n",
    "    \"B\": [5, 3, 8, 4, 2]\n",
    "})\n",
    "df.plot()\n",
    "plt.show()"
   ]
  }
 ],
 "metadata": {
  "kernelspec": {
   "display_name": "Python 3",
   "language": "python",
   "name": "python3"
  },
  "language_info": {
   "codemirror_mode": {
    "name": "ipython",
    "version": 3
   },
   "file_extension": ".py",
   "mimetype": "text/x-python",
   "name": "python",
   "nbconvert_exporter": "python",
   "pygments_lexer": "ipython3",
   "version": "3.13.7"
  }
 },
 "nbformat": 4,
 "nbformat_minor": 5
}
