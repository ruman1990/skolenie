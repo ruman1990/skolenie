{
 "cells": [
  {
   "cell_type": "code",
   "execution_count": null,
<<<<<<< HEAD
   "id": "216ca6ce-134e-4942-af5e-4b653b5c3f91",
   "metadata": {},
   "outputs": [],
=======
   "id": "c812381f",
   "metadata": {},
   "outputs": [
    {
     "ename": "OperationalError",
     "evalue": "connection to server at \"localhost\" (::1), port 5432 failed: Connection refused (0x0000274D/10061)\n\tIs the server running on that host and accepting TCP/IP connections?\nconnection to server at \"localhost\" (127.0.0.1), port 5432 failed: Connection refused (0x0000274D/10061)\n\tIs the server running on that host and accepting TCP/IP connections?\n",
     "output_type": "error",
     "traceback": [
      "\u001b[31m---------------------------------------------------------------------------\u001b[39m",
      "\u001b[31mOperationalError\u001b[39m                          Traceback (most recent call last)",
      "\u001b[36mCell\u001b[39m\u001b[36m \u001b[39m\u001b[32mIn[1]\u001b[39m\u001b[32m, line 4\u001b[39m\n\u001b[32m      1\u001b[39m \u001b[38;5;28;01mimport\u001b[39;00m\u001b[38;5;250m \u001b[39m\u001b[34;01mpsycopg2\u001b[39;00m\n\u001b[32m      2\u001b[39m \u001b[38;5;28;01mimport\u001b[39;00m\u001b[38;5;250m \u001b[39m\u001b[34;01mpandas\u001b[39;00m\u001b[38;5;250m \u001b[39m\u001b[38;5;28;01mas\u001b[39;00m\u001b[38;5;250m \u001b[39m\u001b[34;01mpd\u001b[39;00m\n\u001b[32m----> \u001b[39m\u001b[32m4\u001b[39m conn = \u001b[43mpsycopg2\u001b[49m\u001b[43m.\u001b[49m\u001b[43mconnect\u001b[49m\u001b[43m(\u001b[49m\n\u001b[32m      5\u001b[39m \u001b[43m    \u001b[49m\u001b[43mdbname\u001b[49m\u001b[43m=\u001b[49m\u001b[33;43m\"\u001b[39;49m\u001b[33;43mskolenie\u001b[39;49m\u001b[33;43m\"\u001b[39;49m\u001b[43m,\u001b[49m\n\u001b[32m      6\u001b[39m \u001b[43m    \u001b[49m\u001b[43muser\u001b[49m\u001b[43m=\u001b[49m\u001b[33;43m\"\u001b[39;49m\u001b[33;43madmin\u001b[39;49m\u001b[33;43m\"\u001b[39;49m\u001b[43m,\u001b[49m\n\u001b[32m      7\u001b[39m \u001b[43m    \u001b[49m\u001b[43mpassword\u001b[49m\u001b[43m=\u001b[49m\u001b[33;43m\"\u001b[39;49m\u001b[33;43madminadmin\u001b[39;49m\u001b[33;43m\"\u001b[39;49m\u001b[43m,\u001b[49m\n\u001b[32m      8\u001b[39m \u001b[43m    \u001b[49m\u001b[43mhost\u001b[49m\u001b[43m=\u001b[49m\u001b[33;43m\"\u001b[39;49m\u001b[33;43mlocalhost\u001b[39;49m\u001b[33;43m\"\u001b[39;49m\u001b[43m,\u001b[49m\n\u001b[32m      9\u001b[39m \u001b[43m    \u001b[49m\u001b[43mport\u001b[49m\u001b[43m=\u001b[49m\u001b[33;43m\"\u001b[39;49m\u001b[33;43m5432\u001b[39;49m\u001b[33;43m\"\u001b[39;49m\n\u001b[32m     10\u001b[39m \u001b[43m)\u001b[49m\n",
      "\u001b[36mFile \u001b[39m\u001b[32mc:\\Users\\ruman\\AppData\\Local\\Programs\\Python\\Python313\\Lib\\site-packages\\psycopg2\\__init__.py:135\u001b[39m, in \u001b[36mconnect\u001b[39m\u001b[34m(dsn, connection_factory, cursor_factory, **kwargs)\u001b[39m\n\u001b[32m    132\u001b[39m     kwasync[\u001b[33m'\u001b[39m\u001b[33masync_\u001b[39m\u001b[33m'\u001b[39m] = kwargs.pop(\u001b[33m'\u001b[39m\u001b[33masync_\u001b[39m\u001b[33m'\u001b[39m)\n\u001b[32m    134\u001b[39m dsn = _ext.make_dsn(dsn, **kwargs)\n\u001b[32m--> \u001b[39m\u001b[32m135\u001b[39m conn = \u001b[43m_connect\u001b[49m\u001b[43m(\u001b[49m\u001b[43mdsn\u001b[49m\u001b[43m,\u001b[49m\u001b[43m \u001b[49m\u001b[43mconnection_factory\u001b[49m\u001b[43m=\u001b[49m\u001b[43mconnection_factory\u001b[49m\u001b[43m,\u001b[49m\u001b[43m \u001b[49m\u001b[43m*\u001b[49m\u001b[43m*\u001b[49m\u001b[43mkwasync\u001b[49m\u001b[43m)\u001b[49m\n\u001b[32m    136\u001b[39m \u001b[38;5;28;01mif\u001b[39;00m cursor_factory \u001b[38;5;129;01mis\u001b[39;00m \u001b[38;5;129;01mnot\u001b[39;00m \u001b[38;5;28;01mNone\u001b[39;00m:\n\u001b[32m    137\u001b[39m     conn.cursor_factory = cursor_factory\n",
      "\u001b[31mOperationalError\u001b[39m: connection to server at \"localhost\" (::1), port 5432 failed: Connection refused (0x0000274D/10061)\n\tIs the server running on that host and accepting TCP/IP connections?\nconnection to server at \"localhost\" (127.0.0.1), port 5432 failed: Connection refused (0x0000274D/10061)\n\tIs the server running on that host and accepting TCP/IP connections?\n"
     ]
    }
   ],
>>>>>>> 7ec05b7798561ed58c544756013ff06f3ca26bdf
   "source": [
    "import psycopg2\n",
    "import pandas as pd\n",
    "\n",
    "conn = psycopg2.connect(\n",
    "    dbname=\"skolenie\",\n",
<<<<<<< HEAD
    "    user=\"admin\",\n",
    "    password=\"adminadmin\",\n",
    "    host=\"localhost\",\n",
    "    port=\"5432\"\n",
    ")\n",
    "\n",
    "produkty = pd.read_sql_query(\"SELECT * FROM produkty\", conn)\n",
    "dodavatelia = pd.read_sql_query(\"SELECT * FROM dodavatelia\", conn)\n",
    "odberatelia = pd.read_sql_query(\"SELECT * FROM odberatelia\", conn)\n",
    "objednavky = pd.read_sql_query(\"SELECT * FROM objednavky\", conn)\n",
    "objednavky_produkty = pd.read_sql_query(\"SELECT * FROM objednavky_produkty\", conn)\n",
    "\n"
   ]
  },
  {
   "cell_type": "code",
   "execution_count": null,
   "id": "42084641-24a2-4e9f-ac5a-fade630372bb",
   "metadata": {},
   "outputs": [],
   "source": [
    "import numpy as np\n",
    "\n",
    "# Celkový počet produktov na sklade\n",
    "celkovy_pocet = produkty[\"pocet\"].sum()\n",
    "\n",
    "# Priemerná cena produktu\n",
    "priemerna_cena = produkty[\"cena\"].mean()\n",
    "\n",
    "# Najdrahší a najlacnejší produkt\n",
    "najdrahsi = produkty.loc[produkty[\"cena\"].idxmax()]\n",
    "najlacnejsi = produkty.loc[produkty[\"cena\"].idxmin()]\n",
    "\n",
    "print(\"Celkový počet položiek na sklade:\", celkovy_pocet)\n",
    "print(\"Priemerná cena produktu: {:.2f} €\".format(priemerna_cena))\n",
    "print(\"Najdrahší produkt:\", najdrahsi[\"nazov\"], \"-\", najdrahsi[\"cena\"])\n",
    "print(\"Najlacnejší produkt:\", najlacnejsi[\"nazov\"], \"-\", najlacnejsi[\"cena\"])\n"
   ]
  },
  {
   "cell_type": "code",
   "execution_count": null,
   "id": "232ff300-5a7b-42f7-a568-1bf7b9581e48",
   "metadata": {},
   "outputs": [],
   "source": [
    "import matplotlib.pyplot as plt\n",
    "\n",
    "# Počet produktov v jednotlivých kategóriách\n",
    "kat_pocet = produkty.groupby(\"kategoria\")[\"id\"].count()\n",
    "kat_pocet.plot(kind=\"bar\")\n",
    "plt.xlabel(\"Kategória\")\n",
    "plt.ylabel(\"Počet produktov\")\n",
    "plt.title(\"Počet produktov v jednotlivých kategóriách\")\n",
    "plt.show()"
   ]
  },
  {
   "cell_type": "code",
   "execution_count": null,
   "id": "2ca954b6-d173-4047-ba1d-358a89c99dbb",
   "metadata": {},
   "outputs": [],
   "source": [
    "# Sumarizácia predaného množstva podľa produktu\n",
    "top_produkty = objednavky_produkty.groupby(\"produkt_id\")[\"mnozstvo\"].sum().sort_values(ascending=False).head(10)\n",
    "top_produkty = top_produkty.reset_index().merge(produkty[[\"id\", \"nazov\"]], left_on=\"produkt_id\", right_on=\"id\")\n",
    "top_produkty.set_index(\"nazov\")[\"mnozstvo\"].plot(kind=\"bar\")\n",
    "plt.xlabel(\"Produkt\")\n",
    "plt.ylabel(\"Predané množstvo\")\n",
    "plt.title(\"Top 10 najpredávanejších produktov\")\n",
    "plt.show()"
   ]
  },
  {
   "cell_type": "code",
   "execution_count": null,
   "id": "a2628581-ddca-4938-a5a5-8f004cb0ebb3",
   "metadata": {},
   "outputs": [],
   "source": [
    "# Prepojenie objednávok, objednavky_produkty a dodavatelia\n",
    "obj = objednavky.merge(objednavky_produkty, left_on=\"id\", right_on=\"objednavka_id\")\n",
    "obj = obj.merge(dodavatelia, left_on=\"dodavatel_id\", right_on=\"id\", suffixes=(\"\", \"_dodav\"))\n",
    "obj = obj[obj[\"typ\"] == \"dodavatelska\"]\n",
    "\n",
    "# Súčet hodnoty objednávok podľa dodávateľa\n",
    "obj[\"hodnota\"] = obj[\"cena\"] * obj[\"mnozstvo\"]\n",
    "dodavatelia_trzby = obj.groupby(\"nazov\")[\"hodnota\"].sum().sort_values(ascending=False).head(5)\n",
    "dodavatelia_trzby.plot(kind=\"bar\")\n",
    "plt.xlabel(\"Dodávateľ\")\n",
    "plt.ylabel(\"Hodnota objednávok (€)\")\n",
    "plt.title(\"TOP 5 dodávateľov podľa hodnoty objednávok\")\n",
    "plt.show()"
   ]
  },
  {
   "cell_type": "code",
   "execution_count": null,
   "id": "67e55ab3-7075-4d70-b54e-728b5b3125c6",
   "metadata": {},
   "outputs": [],
   "source": [
    "objednavky[\"datum\"] = pd.to_datetime(objednavky[\"datum\"])\n",
    "objednavky[\"mesiac\"] = objednavky[\"datum\"].dt.to_period(\"M\")\n",
    "mesacne = objednavky.groupby(\"mesiac\")[\"id\"].count()\n",
    "mesacne.plot(marker=\"o\")\n",
    "plt.xlabel(\"Mesiac\")\n",
    "plt.ylabel(\"Počet objednávok\")\n",
    "plt.title(\"Mesačný vývoj počtu objednávok\")\n",
    "plt.show()"
   ]
  },
  {
   "cell_type": "code",
   "execution_count": null,
   "id": "6dc0f357-6cbb-4cb6-846f-25379c90fef9",
   "metadata": {},
   "outputs": [],
   "source": [
    "produkty.boxplot(column=\"cena\", by=\"kategoria\", grid=False)\n",
    "plt.xlabel(\"Kategória\")\n",
    "plt.ylabel(\"Cena (€)\")\n",
    "plt.title(\"Boxplot cien produktov podľa kategórie\")\n",
    "plt.suptitle(\"\")\n",
    "plt.show()\n"
   ]
  },
  {
   "cell_type": "code",
   "execution_count": null,
   "id": "6bdfdf2e-6655-49a0-8bd9-ef9425a9d02a",
   "metadata": {},
   "outputs": [],
   "source": [
    "# Vyber produkt \"mlieko\"\n",
    "produkt_id = produkty[produkty[\"nazov\"] == \"mlieko\"][\"id\"].iloc[0]\n",
    "\n",
    "# Spoj objednávky a produkty, vyber len odberateľské objednávky z posledných 30 dní\n",
    "import datetime\n",
    "objednavky[\"datum\"] = pd.to_datetime(objednavky[\"datum\"])\n",
    "now = objednavky[\"datum\"].max()\n",
    "start_date = now - pd.Timedelta(days=30)\n",
    "\n",
    "odberatelske = objednavky[(objednavky[\"typ\"] == \"odberatelska\") & (objednavky[\"datum\"] >= start_date)]\n",
    "odberatelske_produkty = odberatelske.merge(objednavky_produkty, left_on=\"id\", right_on=\"objednavka_id\")\n",
    "mlieko_predaj = odberatelske_produkty[odberatelske_produkty[\"produkt_id\"] == produkt_id]\n",
    "\n",
    "priemerny_predaj = mlieko_predaj[\"mnozstvo\"].sum() / 30\n",
    "sklad_zasoby = produkty[produkty[\"id\"] == produkt_id][\"pocet\"].iloc[0]\n",
    "dni_na_sklade = sklad_zasoby / priemerny_predaj if priemerny_predaj > 0 else None\n",
    "\n",
    "print(f\"Priemerný denný predaj mlieka: {priemerny_predaj:.2f} ks\")\n",
    "print(f\"Zásoby mlieka vystačia na cca {dni_na_sklade:.1f} dní\")"
   ]
  },
  {
   "cell_type": "code",
   "execution_count": null,
   "id": "e57de501-997e-4987-be92-dfb5b391f0e1",
   "metadata": {},
   "outputs": [],
   "source": [
    "# Prepojenie objednávok, objednavky_produkty a odberatelia\n",
    "obj = objednavky.merge(objednavky_produkty, left_on=\"id\", right_on=\"objednavka_id\")\n",
    "obj = obj.merge(odberatelia, left_on=\"odberatel_id\", right_on=\"id\", suffixes=(\"\", \"_odber\"))\n",
    "obj = obj[obj[\"typ\"] == \"odberatelska\"]\n",
    "\n",
    "obj[\"trzba\"] = obj[\"cena\"] * obj[\"mnozstvo\"]\n",
    "top_odberatelia = obj.groupby(\"nazov\")[\"trzba\"].sum().sort_values(ascending=False).head(10)\n",
    "top_odberatelia.plot(kind=\"bar\")\n",
    "plt.xlabel(\"Odberateľ\")\n",
    "plt.ylabel(\"Tržba (€)\")\n",
    "plt.title(\"TOP 10 odberateľov podľa tržieb\")\n",
    "plt.show()"
   ]
  },
  {
   "cell_type": "code",
   "execution_count": null,
   "id": "0cf5ab5a-3d98-4e70-875b-cb64b7968506",
   "metadata": {},
   "outputs": [],
   "source": [
    "conn.close()"
   ]
  },
  {
   "cell_type": "code",
   "execution_count": null,
   "id": "cefa2fdc-fee7-49f1-bc8f-f9501b2d70ae",
   "metadata": {},
   "outputs": [],
   "source": []
=======
    "    user=\"postgres\",\n",
    "    password=\"postgres\",\n",
    "    host=\"localhost\",\n",
    "    port=\"5432\"\n",
    ")"
   ]
>>>>>>> 7ec05b7798561ed58c544756013ff06f3ca26bdf
  }
 ],
 "metadata": {
  "kernelspec": {
   "display_name": "Python 3",
   "language": "python",
   "name": "python3"
  },
  "language_info": {
   "codemirror_mode": {
    "name": "ipython",
    "version": 3
   },
   "file_extension": ".py",
   "mimetype": "text/x-python",
   "name": "python",
   "nbconvert_exporter": "python",
   "pygments_lexer": "ipython3",
<<<<<<< HEAD
   "version": "3.13.2"
=======
   "version": "3.13.5"
>>>>>>> 7ec05b7798561ed58c544756013ff06f3ca26bdf
  }
 },
 "nbformat": 4,
 "nbformat_minor": 5
}
